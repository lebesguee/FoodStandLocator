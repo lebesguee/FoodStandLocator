{
 "cells": [
  {
   "cell_type": "code",
   "execution_count": 19,
   "metadata": {},
   "outputs": [],
   "source": [
    "%run ./0_Config.ipynb"
   ]
  },
  {
   "cell_type": "markdown",
   "metadata": {},
   "source": [
    "#### 0. Bring data from the survey results"
   ]
  },
  {
   "cell_type": "code",
   "execution_count": 20,
   "metadata": {},
   "outputs": [],
   "source": [
    "kml_filename = '../data/Comida de calle en México.kml'\n",
    "survey = gpd.read_file(kml_filename, driver='KML')"
   ]
  },
  {
   "cell_type": "markdown",
   "metadata": {},
   "source": [
    "#### 1. Bring ZipCode data from INEGI - https://www.correosdemexico.gob.mx/datosabiertos/cp/cpdescarga.txt"
   ]
  },
  {
   "cell_type": "code",
   "execution_count": 21,
   "metadata": {},
   "outputs": [],
   "source": [
    "filename = '../data/correos_cp.txt'\n",
    "inegi_zip_codes = pd.read_csv(filename, sep=\"|\")"
   ]
  },
  {
   "cell_type": "markdown",
   "metadata": {},
   "source": [
    "#### 2. Bring information about health stablishments - http://www.dgis.salud.gob.mx/contenidos/intercambio/clues_gobmx.html"
   ]
  },
  {
   "cell_type": "code",
   "execution_count": 22,
   "metadata": {},
   "outputs": [
    {
     "name": "stderr",
     "output_type": "stream",
     "text": [
      "C:\\Users\\mike_\\AppData\\Local\\Temp\\ipykernel_24924\\129421425.py:2: DtypeWarning: Columns (59,60) have mixed types. Specify dtype option on import or set low_memory=False.\n",
      "  health_locations = pd.read_csv(filename)\n"
     ]
    }
   ],
   "source": [
    "filename = '../data/ESTABLECIMIENTO_SALUD_202210.csv'\n",
    "health_locations = pd.read_csv(filename)"
   ]
  },
  {
   "cell_type": "markdown",
   "metadata": {},
   "source": [
    "#### 3. Bring information about foodstands stablishments from DENUE\n",
    "###### https://www.inegi.org.mx/app/descarga/?ti=6\n",
    "###### Servicios de alojamiento temporal y de preparación de alimentos y bebidas (1 de 2)\n",
    "###### Assumption in filters to get street foodstands:\n",
    "###### a) letra_ext = ['SN', 'Puesto', 'S.N.', 'Banqueta']\n",
    "###### b) per_ocu = 0 a 5 personas laborando\n",
    "###### c) nombre_act LIKE 'restaurante', 'alimento'\n",
    "###### d) tipoUniEco = 'Semifijo'"
   ]
  },
  {
   "cell_type": "code",
   "execution_count": 23,
   "metadata": {},
   "outputs": [],
   "source": [
    "filename = '../data/denue_puestos.csv'\n",
    "denoe_puestos = pd.read_csv(filename)"
   ]
  },
  {
   "cell_type": "markdown",
   "metadata": {},
   "source": [
    "#### 4. Bring DENUE information about wholesale commerce"
   ]
  },
  {
   "cell_type": "code",
   "execution_count": 24,
   "metadata": {},
   "outputs": [
    {
     "name": "stderr",
     "output_type": "stream",
     "text": [
      "C:\\Users\\mike_\\AppData\\Local\\Temp\\ipykernel_24924\\3500236455.py:2: DtypeWarning: Columns (35) have mixed types. Specify dtype option on import or set low_memory=False.\n",
      "  wholesale = pd.read_csv(filename)\n"
     ]
    }
   ],
   "source": [
    "filename = '../data/denue_comercio_mayoreo.csv'\n",
    "wholesale = pd.read_csv(filename)"
   ]
  },
  {
   "cell_type": "markdown",
   "metadata": {},
   "source": [
    "#### 5. Bring DENUE information about retail commerce"
   ]
  },
  {
   "cell_type": "code",
   "execution_count": 25,
   "metadata": {},
   "outputs": [
    {
     "name": "stderr",
     "output_type": "stream",
     "text": [
      "C:\\Users\\mike_\\AppData\\Local\\Temp\\ipykernel_24924\\1694472950.py:2: DtypeWarning: Columns (35,37) have mixed types. Specify dtype option on import or set low_memory=False.\n",
      "  retail = pd.read_csv(filename)\n"
     ]
    }
   ],
   "source": [
    "#filename = '../data/denue_comercio_menudeo.csv'\n",
    "#retail = pd.read_csv(filename)"
   ]
  },
  {
   "cell_type": "markdown",
   "metadata": {},
   "source": [
    "#### 6. Bring DENUE information about construction industry"
   ]
  },
  {
   "cell_type": "code",
   "execution_count": 26,
   "metadata": {},
   "outputs": [
    {
     "name": "stderr",
     "output_type": "stream",
     "text": [
      "C:\\Users\\mike_\\AppData\\Local\\Temp\\ipykernel_24924\\2127765340.py:2: DtypeWarning: Columns (35) have mixed types. Specify dtype option on import or set low_memory=False.\n",
      "  construction = pd.read_csv(filename)\n"
     ]
    }
   ],
   "source": [
    "filename = '../data/denue_construccion.csv'\n",
    "construction = pd.read_csv(filename)"
   ]
  },
  {
   "cell_type": "markdown",
   "metadata": {},
   "source": [
    "#### 7. Bring DENUE information about corporate centres"
   ]
  },
  {
   "cell_type": "code",
   "execution_count": 27,
   "metadata": {},
   "outputs": [],
   "source": [
    "filename = '../data/denue_corporativos.csv'\n",
    "corporate = pd.read_csv(filename)"
   ]
  },
  {
   "cell_type": "markdown",
   "metadata": {},
   "source": [
    "#### 8. Bring DENUE information about education centres"
   ]
  },
  {
   "cell_type": "code",
   "execution_count": 28,
   "metadata": {},
   "outputs": [],
   "source": [
    "filename = '../data/denue_educativos.csv'\n",
    "education = pd.read_csv(filename)"
   ]
  },
  {
   "cell_type": "markdown",
   "metadata": {},
   "source": [
    "#### 9. Bring DENUE information about goverment offices"
   ]
  },
  {
   "cell_type": "code",
   "execution_count": 29,
   "metadata": {},
   "outputs": [
    {
     "name": "stderr",
     "output_type": "stream",
     "text": [
      "C:\\Users\\mike_\\AppData\\Local\\Temp\\ipykernel_24924\\1436630130.py:2: DtypeWarning: Columns (25) have mixed types. Specify dtype option on import or set low_memory=False.\n",
      "  goverment = pd.read_csv(filename)\n"
     ]
    }
   ],
   "source": [
    "filename = '../data/denue_gobierno.csv'\n",
    "goverment = pd.read_csv(filename)"
   ]
  },
  {
   "cell_type": "markdown",
   "metadata": {},
   "source": [
    "#### 10. Bring DENUE information about manufacturing industry"
   ]
  },
  {
   "cell_type": "code",
   "execution_count": 30,
   "metadata": {},
   "outputs": [
    {
     "name": "stderr",
     "output_type": "stream",
     "text": [
      "C:\\Users\\mike_\\AppData\\Local\\Temp\\ipykernel_24924\\926658623.py:2: DtypeWarning: Columns (35) have mixed types. Specify dtype option on import or set low_memory=False.\n",
      "  manufacturing = pd.read_csv(filename)\n"
     ]
    }
   ],
   "source": [
    "#filename = '../data/denue_manufactureras.csv'\n",
    "#manufacturing = pd.read_csv(filename)"
   ]
  }
 ],
 "metadata": {
  "kernelspec": {
   "display_name": "Python 3.9.12 ('base')",
   "language": "python",
   "name": "python3"
  },
  "language_info": {
   "codemirror_mode": {
    "name": "ipython",
    "version": 3
   },
   "file_extension": ".py",
   "mimetype": "text/x-python",
   "name": "python",
   "nbconvert_exporter": "python",
   "pygments_lexer": "ipython3",
   "version": "3.9.12"
  },
  "orig_nbformat": 4,
  "vscode": {
   "interpreter": {
    "hash": "777a9814b1f625c6de01a68afd34302da90c24c55ff64ad7426d28deb82a847b"
   }
  }
 },
 "nbformat": 4,
 "nbformat_minor": 2
}
